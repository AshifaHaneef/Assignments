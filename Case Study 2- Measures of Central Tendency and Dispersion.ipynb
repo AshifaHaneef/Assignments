{
 "cells": [
  {
   "cell_type": "markdown",
   "id": "5344dd8e",
   "metadata": {},
   "source": [
    "# Case Study on Measures of Central Tendency and Dispersion"
   ]
  },
  {
   "cell_type": "code",
   "execution_count": 1,
   "id": "7e685701",
   "metadata": {},
   "outputs": [],
   "source": [
    "import pandas as pd\n",
    "import numpy as np\n",
    "import matplotlib.pyplot as plt\n",
    "import seaborn as sns"
   ]
  },
  {
   "cell_type": "code",
   "execution_count": 3,
   "id": "507ea6a5",
   "metadata": {},
   "outputs": [],
   "source": [
    "data=pd.read_csv('StudentsPerformance.csv')"
   ]
  },
  {
   "cell_type": "code",
   "execution_count": 4,
   "id": "0583c9ec",
   "metadata": {},
   "outputs": [
    {
     "data": {
      "text/html": [
       "<div>\n",
       "<style scoped>\n",
       "    .dataframe tbody tr th:only-of-type {\n",
       "        vertical-align: middle;\n",
       "    }\n",
       "\n",
       "    .dataframe tbody tr th {\n",
       "        vertical-align: top;\n",
       "    }\n",
       "\n",
       "    .dataframe thead th {\n",
       "        text-align: right;\n",
       "    }\n",
       "</style>\n",
       "<table border=\"1\" class=\"dataframe\">\n",
       "  <thead>\n",
       "    <tr style=\"text-align: right;\">\n",
       "      <th></th>\n",
       "      <th>gender</th>\n",
       "      <th>race/ethnicity</th>\n",
       "      <th>parental level of education</th>\n",
       "      <th>lunch</th>\n",
       "      <th>test preparation course</th>\n",
       "      <th>math score</th>\n",
       "      <th>reading score</th>\n",
       "      <th>writing score</th>\n",
       "    </tr>\n",
       "  </thead>\n",
       "  <tbody>\n",
       "    <tr>\n",
       "      <th>0</th>\n",
       "      <td>female</td>\n",
       "      <td>group C</td>\n",
       "      <td>some high school</td>\n",
       "      <td>free/reduced</td>\n",
       "      <td>none</td>\n",
       "      <td>0</td>\n",
       "      <td>17</td>\n",
       "      <td>10</td>\n",
       "    </tr>\n",
       "    <tr>\n",
       "      <th>1</th>\n",
       "      <td>female</td>\n",
       "      <td>group B</td>\n",
       "      <td>high school</td>\n",
       "      <td>free/reduced</td>\n",
       "      <td>none</td>\n",
       "      <td>8</td>\n",
       "      <td>24</td>\n",
       "      <td>23</td>\n",
       "    </tr>\n",
       "    <tr>\n",
       "      <th>2</th>\n",
       "      <td>female</td>\n",
       "      <td>group B</td>\n",
       "      <td>some high school</td>\n",
       "      <td>free/reduced</td>\n",
       "      <td>none</td>\n",
       "      <td>18</td>\n",
       "      <td>32</td>\n",
       "      <td>28</td>\n",
       "    </tr>\n",
       "    <tr>\n",
       "      <th>3</th>\n",
       "      <td>female</td>\n",
       "      <td>group B</td>\n",
       "      <td>some college</td>\n",
       "      <td>standard</td>\n",
       "      <td>none</td>\n",
       "      <td>11</td>\n",
       "      <td>38</td>\n",
       "      <td>32</td>\n",
       "    </tr>\n",
       "    <tr>\n",
       "      <th>4</th>\n",
       "      <td>female</td>\n",
       "      <td>group C</td>\n",
       "      <td>some college</td>\n",
       "      <td>free/reduced</td>\n",
       "      <td>none</td>\n",
       "      <td>22</td>\n",
       "      <td>39</td>\n",
       "      <td>33</td>\n",
       "    </tr>\n",
       "    <tr>\n",
       "      <th>...</th>\n",
       "      <td>...</td>\n",
       "      <td>...</td>\n",
       "      <td>...</td>\n",
       "      <td>...</td>\n",
       "      <td>...</td>\n",
       "      <td>...</td>\n",
       "      <td>...</td>\n",
       "      <td>...</td>\n",
       "    </tr>\n",
       "    <tr>\n",
       "      <th>995</th>\n",
       "      <td>male</td>\n",
       "      <td>group E</td>\n",
       "      <td>some college</td>\n",
       "      <td>standard</td>\n",
       "      <td>completed</td>\n",
       "      <td>99</td>\n",
       "      <td>87</td>\n",
       "      <td>81</td>\n",
       "    </tr>\n",
       "    <tr>\n",
       "      <th>996</th>\n",
       "      <td>male</td>\n",
       "      <td>group A</td>\n",
       "      <td>some college</td>\n",
       "      <td>standard</td>\n",
       "      <td>completed</td>\n",
       "      <td>100</td>\n",
       "      <td>96</td>\n",
       "      <td>86</td>\n",
       "    </tr>\n",
       "    <tr>\n",
       "      <th>997</th>\n",
       "      <td>male</td>\n",
       "      <td>group D</td>\n",
       "      <td>some college</td>\n",
       "      <td>standard</td>\n",
       "      <td>completed</td>\n",
       "      <td>100</td>\n",
       "      <td>97</td>\n",
       "      <td>99</td>\n",
       "    </tr>\n",
       "    <tr>\n",
       "      <th>998</th>\n",
       "      <td>male</td>\n",
       "      <td>group E</td>\n",
       "      <td>associate's degree</td>\n",
       "      <td>free/reduced</td>\n",
       "      <td>completed</td>\n",
       "      <td>100</td>\n",
       "      <td>100</td>\n",
       "      <td>93</td>\n",
       "    </tr>\n",
       "    <tr>\n",
       "      <th>999</th>\n",
       "      <td>male</td>\n",
       "      <td>group E</td>\n",
       "      <td>bachelor's degree</td>\n",
       "      <td>standard</td>\n",
       "      <td>completed</td>\n",
       "      <td>100</td>\n",
       "      <td>100</td>\n",
       "      <td>100</td>\n",
       "    </tr>\n",
       "  </tbody>\n",
       "</table>\n",
       "<p>1000 rows × 8 columns</p>\n",
       "</div>"
      ],
      "text/plain": [
       "     gender race/ethnicity parental level of education         lunch  \\\n",
       "0    female        group C            some high school  free/reduced   \n",
       "1    female        group B                 high school  free/reduced   \n",
       "2    female        group B            some high school  free/reduced   \n",
       "3    female        group B                some college      standard   \n",
       "4    female        group C                some college  free/reduced   \n",
       "..      ...            ...                         ...           ...   \n",
       "995    male        group E                some college      standard   \n",
       "996    male        group A                some college      standard   \n",
       "997    male        group D                some college      standard   \n",
       "998    male        group E          associate's degree  free/reduced   \n",
       "999    male        group E           bachelor's degree      standard   \n",
       "\n",
       "    test preparation course  math score  reading score  writing score  \n",
       "0                      none           0             17             10  \n",
       "1                      none           8             24             23  \n",
       "2                      none          18             32             28  \n",
       "3                      none          11             38             32  \n",
       "4                      none          22             39             33  \n",
       "..                      ...         ...            ...            ...  \n",
       "995               completed          99             87             81  \n",
       "996               completed         100             96             86  \n",
       "997               completed         100             97             99  \n",
       "998               completed         100            100             93  \n",
       "999               completed         100            100            100  \n",
       "\n",
       "[1000 rows x 8 columns]"
      ]
     },
     "execution_count": 4,
     "metadata": {},
     "output_type": "execute_result"
    }
   ],
   "source": [
    "data"
   ]
  },
  {
   "cell_type": "code",
   "execution_count": 70,
   "id": "c458c7d9",
   "metadata": {},
   "outputs": [],
   "source": [
    "#The given data set consists of students data of an organization categorized as per gender,race/ethnicity,parental level of education,lunch,their test preparation course and scores in maths,reading as well as in writing.\n",
    "#This data set consists of a total of 1000 student data."
   ]
  },
  {
   "cell_type": "markdown",
   "id": "5f5daa82",
   "metadata": {},
   "source": [
    "# 1.Find out how many males and females participated in the test."
   ]
  },
  {
   "cell_type": "code",
   "execution_count": 6,
   "id": "28107302",
   "metadata": {},
   "outputs": [
    {
     "data": {
      "text/plain": [
       "gender\n",
       "female    518\n",
       "male      482\n",
       "dtype: int64"
      ]
     },
     "execution_count": 6,
     "metadata": {},
     "output_type": "execute_result"
    }
   ],
   "source": [
    "data.groupby(by='gender').size()"
   ]
  },
  {
   "cell_type": "markdown",
   "id": "3bff9af6",
   "metadata": {},
   "source": [
    "# Inference\n",
    "The number of Female Participants is more than male participants."
   ]
  },
  {
   "cell_type": "markdown",
   "id": "ebed7639",
   "metadata": {},
   "source": [
    "# 2.What do you think about the students' parental level of education?"
   ]
  },
  {
   "cell_type": "code",
   "execution_count": 11,
   "id": "b43a7de4",
   "metadata": {},
   "outputs": [
    {
     "data": {
      "text/plain": [
       "parental level of education\n",
       "associate's degree    222\n",
       "bachelor's degree     118\n",
       "high school           196\n",
       "master's degree        59\n",
       "some college          226\n",
       "some high school      179\n",
       "dtype: int64"
      ]
     },
     "execution_count": 11,
     "metadata": {},
     "output_type": "execute_result"
    }
   ],
   "source": [
    "data.groupby(by='parental level of education').size()"
   ]
  },
  {
   "cell_type": "code",
   "execution_count": 20,
   "id": "57a8ecaf",
   "metadata": {},
   "outputs": [],
   "source": [
    "edu = data['parental level of education'].value_counts().to_frame().reset_index() "
   ]
  },
  {
   "cell_type": "code",
   "execution_count": 21,
   "id": "7225cb8f",
   "metadata": {},
   "outputs": [
    {
     "data": {
      "text/html": [
       "<div>\n",
       "<style scoped>\n",
       "    .dataframe tbody tr th:only-of-type {\n",
       "        vertical-align: middle;\n",
       "    }\n",
       "\n",
       "    .dataframe tbody tr th {\n",
       "        vertical-align: top;\n",
       "    }\n",
       "\n",
       "    .dataframe thead th {\n",
       "        text-align: right;\n",
       "    }\n",
       "</style>\n",
       "<table border=\"1\" class=\"dataframe\">\n",
       "  <thead>\n",
       "    <tr style=\"text-align: right;\">\n",
       "      <th></th>\n",
       "      <th>index</th>\n",
       "      <th>parental level of education</th>\n",
       "    </tr>\n",
       "  </thead>\n",
       "  <tbody>\n",
       "    <tr>\n",
       "      <th>0</th>\n",
       "      <td>some college</td>\n",
       "      <td>226</td>\n",
       "    </tr>\n",
       "    <tr>\n",
       "      <th>1</th>\n",
       "      <td>associate's degree</td>\n",
       "      <td>222</td>\n",
       "    </tr>\n",
       "    <tr>\n",
       "      <th>2</th>\n",
       "      <td>high school</td>\n",
       "      <td>196</td>\n",
       "    </tr>\n",
       "    <tr>\n",
       "      <th>3</th>\n",
       "      <td>some high school</td>\n",
       "      <td>179</td>\n",
       "    </tr>\n",
       "    <tr>\n",
       "      <th>4</th>\n",
       "      <td>bachelor's degree</td>\n",
       "      <td>118</td>\n",
       "    </tr>\n",
       "    <tr>\n",
       "      <th>5</th>\n",
       "      <td>master's degree</td>\n",
       "      <td>59</td>\n",
       "    </tr>\n",
       "  </tbody>\n",
       "</table>\n",
       "</div>"
      ],
      "text/plain": [
       "                index  parental level of education\n",
       "0        some college                          226\n",
       "1  associate's degree                          222\n",
       "2         high school                          196\n",
       "3    some high school                          179\n",
       "4   bachelor's degree                          118\n",
       "5     master's degree                           59"
      ]
     },
     "execution_count": 21,
     "metadata": {},
     "output_type": "execute_result"
    }
   ],
   "source": [
    "edu"
   ]
  },
  {
   "cell_type": "code",
   "execution_count": 72,
   "id": "920a5b0d",
   "metadata": {},
   "outputs": [
    {
     "data": {
      "text/plain": [
       "Text(0.5, 0, 'Count')"
      ]
     },
     "execution_count": 72,
     "metadata": {},
     "output_type": "execute_result"
    },
    {
     "data": {
      "image/png": "[encoded data removed]",
      "text/plain": [
       "<Figure size 432x288 with 1 Axes>"
      ]
     },
     "metadata": {
      "needs_background": "light"
     },
     "output_type": "display_data"
    }
   ],
   "source": [
    "plt.figure(figsize=(8,8))\n",
    "plt.barh(edu['index'],edu['parental level of education'],color=['red','blue','yellow','green','violet','orange'])\n",
    "plt.title('Parental Level of Education')\n",
    "plt.ylabel('Education Level')\n",
    "plt.xlabel('Count')"
   ]
  },
  {
   "cell_type": "markdown",
   "id": "44c9c014",
   "metadata": {},
   "source": [
    "# Inference\n",
    "1.Most of the parents are high school passouts.\n",
    "\n",
    "2.22.6% of them have a college level of education.\n",
    "\n",
    "3.Only 5.9% of them holds a Masters Degree.\n",
    "\n",
    "4.From this data,we can infer that most parents have a basic level of education to support their children.\n"
   ]
  },
  {
   "cell_type": "markdown",
   "id": "f7fb29a7",
   "metadata": {},
   "source": [
    "# 3. Who scores the most on average for math, reading and writing based on\n",
    "● Gender\n",
    "● Test preparation course"
   ]
  },
  {
   "cell_type": "code",
   "execution_count": 39,
   "id": "3517f3ac",
   "metadata": {
    "scrolled": true
   },
   "outputs": [
    {
     "name": "stdout",
     "output_type": "stream",
     "text": [
      "   gender  math score\n",
      "0  female   63.376448\n",
      "1    male   68.821577\n",
      "   gender  reading score\n",
      "1    male      65.545643\n",
      "0  female      72.590734\n",
      "   gender  writing score\n",
      "1    male      63.446058\n",
      "0  female      72.467181\n"
     ]
    }
   ],
   "source": [
    "m=data.groupby(by='gender',as_index=False)['math score'].mean()\n",
    "mt=m.sort_values(by=['math score'])\n",
    "print(mt)\n",
    "r=data.groupby(by='gender',as_index=False)['reading score'].mean()\n",
    "rs=r.sort_values(by=['reading score'])\n",
    "print(rs)\n",
    "w=data.groupby(by='gender',as_index=False)['writing score'].mean()\n",
    "ws=w.sort_values(by=['writing score'])\n",
    "print(ws)"
   ]
  },
  {
   "cell_type": "markdown",
   "id": "8b2100fa",
   "metadata": {},
   "source": [
    "# Inference\n",
    "Female students scores the most in reading and writing tests while male students has highest average score than the male students in maths test."
   ]
  },
  {
   "cell_type": "code",
   "execution_count": 42,
   "id": "ebe7b5ab",
   "metadata": {},
   "outputs": [
    {
     "name": "stdout",
     "output_type": "stream",
     "text": [
      "  test preparation course  math score\n",
      "1                    none    63.78972\n",
      "0               completed    69.96648\n",
      "  test preparation course  reading score\n",
      "1                    none      66.417445\n",
      "0               completed      74.175978\n",
      "  test preparation course  writing score\n",
      "1                    none      64.457944\n",
      "0               completed      74.684358\n"
     ]
    }
   ],
   "source": [
    "tm=data.groupby(by='test preparation course',as_index=False)['math score'].mean()\n",
    "mat=tm.sort_values(by=['math score'])\n",
    "print(mat)\n",
    "tr=data.groupby(by='test preparation course',as_index=False)['reading score'].mean()\n",
    "trs=tr.sort_values(by=['reading score'])\n",
    "print(trs)\n",
    "tw=data.groupby(by='test preparation course',as_index=False)['writing score'].mean()\n",
    "tws=tw.sort_values(by=['writing score'])\n",
    "print(tws)\n"
   ]
  },
  {
   "cell_type": "markdown",
   "id": "3274cfb5",
   "metadata": {},
   "source": [
    "# Inference\n",
    "From the average score analysis, it is quite visible that the students who took a test preparation course has performed well than those who haven't taken a course."
   ]
  },
  {
   "cell_type": "markdown",
   "id": "4cd44eed",
   "metadata": {},
   "source": [
    "# 4. What do you think about the scoring variation for math, reading and writing based on\n",
    "● Gender\n",
    "● Test preparation course"
   ]
  },
  {
   "cell_type": "code",
   "execution_count": 73,
   "id": "17724f0e",
   "metadata": {},
   "outputs": [],
   "source": [
    "#to plot gender score variation"
   ]
  },
  {
   "cell_type": "code",
   "execution_count": 66,
   "id": "522e6053",
   "metadata": {},
   "outputs": [
    {
     "data": {
      "text/plain": [
       "<Figure size 576x576 with 0 Axes>"
      ]
     },
     "metadata": {},
     "output_type": "display_data"
    },
    {
     "data": {
      "image/png": "[encoded data removed]",
      "text/plain": [
       "<Figure size 432x288 with 1 Axes>"
      ]
     },
     "metadata": {
      "needs_background": "light"
     },
     "output_type": "display_data"
    }
   ],
   "source": [
    "n_groups = 3\n",
    "men_means = (68.821577,65.545643,63.446058)\n",
    "women_means = (63.376448,72.590734,72.467181)\n",
    "plt.figure(figsize=(8,8))\n",
    "fig, ax = plt.subplots()\n",
    "index = np.arange(n_groups)\n",
    "bar_width = 0.355. The management needs your help to give bonus points to the top 25% of\n",
    "students based on their maths score, so how will you help the management\n",
    "to achieve this.\n",
    "opacity = 0.8\n",
    "\n",
    "rects1 = plt.bar(index, men_means, bar_width,alpha=opacity,color='y',label='Men')\n",
    "\n",
    "rects2 = plt.bar(index + bar_width, women_means, bar_width,alpha=opacity,color='b',label='Women')\n",
    "\n",
    "plt.xlabel('Gender')\n",
    "plt.ylabel('Average Score')\n",
    "plt.title('Scores by person')\n",
    "plt.xticks(index + bar_width, (' Math Score', ' Reading Score', ' Writing Score'))\n",
    "plt.legend()\n",
    "\n",
    "plt.tight_layout()\n",
    "plt.show()"
   ]
  },
  {
   "cell_type": "markdown",
   "id": "1b2f33e0",
   "metadata": {},
   "source": [
    "# Inference\n",
    "Avg score of female students is greater than that of male students in Reading and Writing Score.\n"
   ]
  },
  {
   "cell_type": "code",
   "execution_count": 65,
   "id": "dbf0a3b2",
   "metadata": {},
   "outputs": [
    {
     "data": {
      "text/plain": [
       "<Figure size 576x576 with 0 Axes>"
      ]
     },
     "metadata": {},
     "output_type": "display_data"
    },
    {
     "data": {
      "image/png": "[encoded data removed]",
      "text/plain": [
       "<Figure size 432x288 with 1 Axes>"
      ]
     },
     "metadata": {
      "needs_background": "light"
     },
     "output_type": "display_data"
    }
   ],
   "source": [
    "n_groups = 3\n",
    "none_means = (63.78972,66.417445,64.457944)\n",
    "completed_means = (69.96648,74.175978,74.684358)\n",
    "plt.figure(figsize=(8,8))\n",
    "fig, ax = plt.subplots()\n",
    "index = np.arange(n_groups)\n",
    "bar_width = 0.35\n",
    "opacity = 0.8\n",
    "\n",
    "rects1 = plt.bar(index, men_means, bar_width,alpha=opacity,color='y',label='None')\n",
    "\n",
    "rects2 = plt.bar(index + bar_width, women_means, bar_width,alpha=opacity,color='r',label='Completed')\n",
    "\n",
    "plt.xlabel('Mode Of Preparation')\n",
    "plt.ylabel('Average Score')\n",
    "plt.title('Test preparation course')\n",
    "plt.xticks(index + bar_width, (' Math Score', ' Reading Score', ' Writing Score'))\n",
    "plt.legend()\n",
    "\n",
    "plt.tight_layout()\n",
    "plt.show()"
   ]
  },
  {
   "cell_type": "markdown",
   "id": "096a7d1d",
   "metadata": {},
   "source": [
    "# Inference\n",
    "Average students of students who has taken a preparatory course and students who hasnt taken it is almost the same.\n",
    "Those students who has taken the course has performed well in their exams.\n"
   ]
  },
  {
   "cell_type": "markdown",
   "id": "5a60f264",
   "metadata": {},
   "source": [
    "# 5. The management needs your help to give bonus points to the top 25% of students based on their maths score, so how will you help the management to achieve this."
   ]
  },
  {
   "cell_type": "code",
   "execution_count": 68,
   "id": "52d0a15b",
   "metadata": {},
   "outputs": [
    {
     "name": "stdout",
     "output_type": "stream",
     "text": [
      "250\n"
     ]
    }
   ],
   "source": [
    "#To find the 25% of dataset\n",
    "set=25*data.shape[0]\n",
    "top_stud=int(set/100)\n",
    "print(int(top_stud))"
   ]
  },
  {
   "cell_type": "code",
   "execution_count": 69,
   "id": "84c3cb79",
   "metadata": {},
   "outputs": [
    {
     "data": {
      "text/html": [
       "<div>\n",
       "<style scoped>\n",
       "    .dataframe tbody tr th:only-of-type {\n",
       "        vertical-align: middle;\n",
       "    }\n",
       "\n",
       "    .dataframe tbody tr th {\n",
       "        vertical-align: top;\n",
       "    }\n",
       "\n",
       "    .dataframe thead th {\n",
       "        text-align: right;\n",
       "    }\n",
       "</style>\n",
       "<table border=\"1\" class=\"dataframe\">\n",
       "  <thead>\n",
       "    <tr style=\"text-align: right;\">\n",
       "      <th></th>\n",
       "      <th>gender</th>\n",
       "      <th>race/ethnicity</th>\n",
       "      <th>parental level of education</th>\n",
       "      <th>lunch</th>\n",
       "      <th>test preparation course</th>\n",
       "      <th>math score</th>\n",
       "      <th>reading score</th>\n",
       "      <th>writing score</th>\n",
       "    </tr>\n",
       "  </thead>\n",
       "  <tbody>\n",
       "    <tr>\n",
       "      <th>999</th>\n",
       "      <td>male</td>\n",
       "      <td>group E</td>\n",
       "      <td>bachelor's degree</td>\n",
       "      <td>standard</td>\n",
       "      <td>completed</td>\n",
       "      <td>100</td>\n",
       "      <td>100</td>\n",
       "      <td>100</td>\n",
       "    </tr>\n",
       "    <tr>\n",
       "      <th>996</th>\n",
       "      <td>male</td>\n",
       "      <td>group A</td>\n",
       "      <td>some college</td>\n",
       "      <td>standard</td>\n",
       "      <td>completed</td>\n",
       "      <td>100</td>\n",
       "      <td>96</td>\n",
       "      <td>86</td>\n",
       "    </tr>\n",
       "    <tr>\n",
       "      <th>515</th>\n",
       "      <td>female</td>\n",
       "      <td>group E</td>\n",
       "      <td>some college</td>\n",
       "      <td>standard</td>\n",
       "      <td>none</td>\n",
       "      <td>100</td>\n",
       "      <td>92</td>\n",
       "      <td>97</td>\n",
       "    </tr>\n",
       "    <tr>\n",
       "      <th>517</th>\n",
       "      <td>female</td>\n",
       "      <td>group E</td>\n",
       "      <td>associate's degree</td>\n",
       "      <td>standard</td>\n",
       "      <td>none</td>\n",
       "      <td>100</td>\n",
       "      <td>100</td>\n",
       "      <td>100</td>\n",
       "    </tr>\n",
       "    <tr>\n",
       "      <th>516</th>\n",
       "      <td>female</td>\n",
       "      <td>group E</td>\n",
       "      <td>bachelor's degree</td>\n",
       "      <td>standard</td>\n",
       "      <td>none</td>\n",
       "      <td>100</td>\n",
       "      <td>100</td>\n",
       "      <td>100</td>\n",
       "    </tr>\n",
       "    <tr>\n",
       "      <th>...</th>\n",
       "      <td>...</td>\n",
       "      <td>...</td>\n",
       "      <td>...</td>\n",
       "      <td>...</td>\n",
       "      <td>...</td>\n",
       "      <td>...</td>\n",
       "      <td>...</td>\n",
       "      <td>...</td>\n",
       "    </tr>\n",
       "    <tr>\n",
       "      <th>856</th>\n",
       "      <td>male</td>\n",
       "      <td>group E</td>\n",
       "      <td>some high school</td>\n",
       "      <td>standard</td>\n",
       "      <td>completed</td>\n",
       "      <td>77</td>\n",
       "      <td>76</td>\n",
       "      <td>77</td>\n",
       "    </tr>\n",
       "    <tr>\n",
       "      <th>855</th>\n",
       "      <td>male</td>\n",
       "      <td>group E</td>\n",
       "      <td>associate's degree</td>\n",
       "      <td>free/reduced</td>\n",
       "      <td>completed</td>\n",
       "      <td>77</td>\n",
       "      <td>69</td>\n",
       "      <td>68</td>\n",
       "    </tr>\n",
       "    <tr>\n",
       "      <th>854</th>\n",
       "      <td>male</td>\n",
       "      <td>group D</td>\n",
       "      <td>some high school</td>\n",
       "      <td>standard</td>\n",
       "      <td>completed</td>\n",
       "      <td>77</td>\n",
       "      <td>68</td>\n",
       "      <td>69</td>\n",
       "    </tr>\n",
       "    <tr>\n",
       "      <th>853</th>\n",
       "      <td>male</td>\n",
       "      <td>group D</td>\n",
       "      <td>associate's degree</td>\n",
       "      <td>free/reduced</td>\n",
       "      <td>none</td>\n",
       "      <td>77</td>\n",
       "      <td>78</td>\n",
       "      <td>73</td>\n",
       "    </tr>\n",
       "    <tr>\n",
       "      <th>852</th>\n",
       "      <td>male</td>\n",
       "      <td>group D</td>\n",
       "      <td>some college</td>\n",
       "      <td>free/reduced</td>\n",
       "      <td>none</td>\n",
       "      <td>77</td>\n",
       "      <td>62</td>\n",
       "      <td>64</td>\n",
       "    </tr>\n",
       "  </tbody>\n",
       "</table>\n",
       "<p>250 rows × 8 columns</p>\n",
       "</div>"
      ],
      "text/plain": [
       "     gender race/ethnicity parental level of education         lunch  \\\n",
       "999    male        group E           bachelor's degree      standard   \n",
       "996    male        group A                some college      standard   \n",
       "515  female        group E                some college      standard   \n",
       "517  female        group E          associate's degree      standard   \n",
       "516  female        group E           bachelor's degree      standard   \n",
       "..      ...            ...                         ...           ...   \n",
       "856    male        group E            some high school      standard   \n",
       "855    male        group E          associate's degree  free/reduced   \n",
       "854    male        group D            some high school      standard   \n",
       "853    male        group D          associate's degree  free/reduced   \n",
       "852    male        group D                some college  free/reduced   \n",
       "\n",
       "    test preparation course  math score  reading score  writing score  \n",
       "999               completed         100            100            100  \n",
       "996               completed         100             96             86  \n",
       "515                    none         100             92             97  \n",
       "517                    none         100            100            100  \n",
       "516                    none         100            100            100  \n",
       "..                      ...         ...            ...            ...  \n",
       "856               completed          77             76             77  \n",
       "855               completed          77             69             68  \n",
       "854               completed          77             68             69  \n",
       "853                    none          77             78             73  \n",
       "852                    none          77             62             64  \n",
       "\n",
       "[250 rows x 8 columns]"
      ]
     },
     "execution_count": 69,
     "metadata": {},
     "output_type": "execute_result"
    }
   ],
   "source": [
    "#To Print the top 25% (250) students\n",
    "data.sort_values(by=['math score'],ascending=False).head(top_stud)"
   ]
  },
  {
   "cell_type": "code",
   "execution_count": null,
   "id": "86e48608",
   "metadata": {},
   "outputs": [],
   "source": []
  }
 ],
 "metadata": {
  "kernelspec": {
   "display_name": "Python 3",
   "language": "python",
   "name": "python3"
  },
  "language_info": {
   "codemirror_mode": {
    "name": "ipython",
    "version": 3
   },
   "file_extension": ".py",
   "mimetype": "text/x-python",
   "name": "python",
   "nbconvert_exporter": "python",
   "pygments_lexer": "ipython3",
   "version": "3.8.8"
  }
 },
 "nbformat": 4,
 "nbformat_minor": 5
}
